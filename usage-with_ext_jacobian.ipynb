{
 "metadata": {
  "name": ""
 },
 "nbformat": 3,
 "nbformat_minor": 0,
 "worksheets": [
  {
   "cells": [
    {
     "cell_type": "code",
     "collapsed": false,
     "input": [
      "import numpy as np\n",
      "import optimal_estimation as oe\n",
      "\n",
      "%load_ext autoreload\n",
      "%autoreload 2"
     ],
     "language": "python",
     "metadata": {},
     "outputs": [],
     "prompt_number": 1
    },
    {
     "cell_type": "markdown",
     "metadata": {},
     "source": [
      "Define 'forward' function. This can be *any* kind of python function (e.g. LUTs), as long as it accepts x, params and returns y."
     ]
    },
    {
     "cell_type": "code",
     "collapsed": false,
     "input": [
      "def func(x,*params):\n",
      "    '''\n",
      "    simple example of a function R^2 --> R^3\n",
      "    (two state variables and three measurements)\n",
      "\n",
      "    In general every function is possible but it must  accept: \n",
      "    Input:\n",
      "           x:  n-element np-array \n",
      "      params:  additional parameter,that are needed (e.g. geometry ..)\n",
      "               could be anything tupel,dict,list,func ....\n",
      "    Output:\n",
      "           y:  m-element  np-array\n",
      "\n",
      "    '''\n",
      "    # this is just a quick and dirty check\n",
      "    # if params have been used\n",
      "    try:\n",
      "        dum=1.**params[0]\n",
      "        exp=params[0]\n",
      "    except:\n",
      "        exp=1.\n",
      "    # simple non-linear useless function    \n",
      "    return np.asarray([ 13 + 6*x[0]**exp + 4*x[1] + 7*np.log(x[0]*x[1])\n",
      "                          , 2 - 3*x[0] + 2*x[1]**exp +   np.sqrt(x[0])*np.log(x[1])\n",
      "                          ,       x[0] - 5*x[1] -   np.sqrt(x[0]*x[1])**exp\n",
      "                          ])\n",
      "    # simple linear useless function    \n",
      "    #return np.asarray([ 13 + 6*x[0] + 4*x[1]\n",
      "    #                      , 2 - 3*x[0] + 2*x[1]  \n",
      "    #                      ,       x[0] - 5*x[1] \n",
      "    #                      ])"
     ],
     "language": "python",
     "metadata": {},
     "outputs": [],
     "prompt_number": 2
    },
    {
     "cell_type": "markdown",
     "metadata": {},
     "source": [
      "Test forward"
     ]
    },
    {
     "cell_type": "code",
     "collapsed": false,
     "input": [
      "x=np.array([1.9,2.8])\n",
      "print func(x)\n",
      "print func(x,1.8)"
     ],
     "language": "python",
     "metadata": {},
     "outputs": [
      {
       "output_type": "stream",
       "stream": "stdout",
       "text": [
        "[ 47.30031312   3.31923242 -14.40651252]\n",
        "[ 54.95087249  10.48110641 -16.60111873]\n"
       ]
      }
     ],
     "prompt_number": 3
    },
    {
     "cell_type": "markdown",
     "metadata": {},
     "source": [
      "Define 'forward' function Jacobian. This can be *any* kind of python function (e.g. LUTs), as long as it accepts x, params and returns an np-array of dimension (y.size,x.size)   "
     ]
    },
    {
     "cell_type": "code",
     "collapsed": false,
     "input": [
      "def func_jaco(x,*params):\n",
      "    '''\n",
      "    simple example of a jacobian for a function R^2 --> R^3\n",
      "    (two state variables and three measurements)\n",
      "\n",
      "    In general every kind of function is possible, but it must accept: \n",
      "    Input:\n",
      "           x:  n-element np-array \n",
      "      params:  additional parameter,that are needed (e.g. geometry ..)\n",
      "               could be anything tupel,dict,list,func ....\n",
      "    Output:\n",
      "           j:  (size(y),size(x))  np-array (here: 3,2)\n",
      "\n",
      "    '''\n",
      "    # this is just a quick and dirty check\n",
      "    # if params have been used\n",
      "    try:\n",
      "        dum=1.**params[0]\n",
      "        exp=params[0]\n",
      "    except:\n",
      "        exp=1.\n",
      "    ny=3\n",
      "    nx=2\n",
      "    dx=np.array([0.001,0.001])\n",
      "    jac=np.zeros((ny,nx))  # zeilen zuerst, spalten sp\u00e4ter!!!!!!!\n",
      "    for ix in range(nx):\n",
      "        dxm=x*1.\n",
      "        dxp=x*1.\n",
      "        dxm[ix]=dxm[ix]-dx[ix]\n",
      "        dxp[ix]=dxp[ix]+dx[ix]\n",
      "        dyy=func(dxp,exp)-func(dxm,exp)\n",
      "        for iy in range(ny):\n",
      "            jac[iy,ix]=dyy[iy]/dx[ix]/2.\n",
      "    return jac"
     ],
     "language": "python",
     "metadata": {},
     "outputs": [],
     "prompt_number": 4
    },
    {
     "cell_type": "code",
     "collapsed": false,
     "input": [
      "print func_jaco(x)\n",
      "print func_jaco(x,1.2)"
     ],
     "language": "python",
     "metadata": {},
     "outputs": [
      {
       "output_type": "stream",
       "stream": "stdout",
       "text": [
        "[[ 9.68421087  6.50000011]\n",
        " [-2.62651777  2.49228748]\n",
        " [ 0.393023   -5.41187724]]\n",
        "[[ 11.87042713   6.50000011]\n",
        " [ -2.62651777   3.4410707 ]\n",
        " [  0.13911599  -5.58417128]]\n"
       ]
      }
     ],
     "prompt_number": 5
    },
    {
     "cell_type": "markdown",
     "metadata": {},
     "source": [
      "Generate inverse function"
     ]
    },
    {
     "cell_type": "code",
     "collapsed": false,
     "input": [
      "# lower limit for x\n",
      "a=np.array([-3.,0.])\n",
      "# upper limit for x\n",
      "b=np.array([53.,10.])\n",
      "\n",
      "#this creates the inverse function\n",
      "inv_func=oe.my_inverter(func,a,b,jaco=func_jaco)"
     ],
     "language": "python",
     "metadata": {},
     "outputs": [],
     "prompt_number": 6
    },
    {
     "cell_type": "markdown",
     "metadata": {},
     "source": [
      "Test inverse function  with *pure* Newton"
     ]
    },
    {
     "cell_type": "code",
     "collapsed": false,
     "input": [
      "#measurement\n",
      "y=np.array([ 47.30031312 ,  3.31923242, -14.40651252])\n",
      "\n",
      "#Inversion retrieves x (=state) \n",
      "print inv_func(y,method=0,full=True)\n",
      "print inv_func(func([3.4,5.7]),method=0)"
     ],
     "language": "python",
     "metadata": {},
     "outputs": [
      {
       "output_type": "stream",
       "stream": "stdout",
       "text": [
        "result(x=array([ 1.9,  2.8]), j=array([[ 9.68421087,  6.50000011],\n",
        "       [-2.62651777,  2.49228748],\n",
        "       [ 0.393023  , -5.41187724]]), conv=True, ni=5, g=array([[ 0.08176003, -0.06936117,  0.06625653],\n",
        "       [ 0.02652773,  0.08047365, -0.11585745]]), a=array([[ 1.,  0.],\n",
        "       [ 0.,  1.]]), sr=None, cost=2.1421177383297344e-17)\n",
        "[ 3.4  5.7]\n"
       ]
      }
     ],
     "prompt_number": 7
    },
    {
     "cell_type": "markdown",
     "metadata": {},
     "source": [
      "Test inverse with Newton and measurement error covariance"
     ]
    },
    {
     "cell_type": "code",
     "collapsed": false,
     "input": [
      "#measurement error covariance\n",
      "se=np.array([[1,0.,0],[0,1.,0],[0,0,10.]])\n",
      "\n",
      "\n",
      "# y is measurement with error at y[2]\n",
      "y=func(np.array([1.9,2.8]))+np.array([0.,0.,2.])\n",
      "\n",
      "#Inversion\n",
      "print inv_func(y,se=se,method=1,full=True)\n",
      "print inv_func(y,se=se,method=1,full=True,jaco=None)\n",
      "print inv_func(y,se=se,method=1)"
     ],
     "language": "python",
     "metadata": {},
     "outputs": [
      {
       "output_type": "stream",
       "stream": "stdout",
       "text": [
        "result(x=array([ 1.93199447,  2.74438046]), j=array([[ 9.6231991 ,  6.55066686],\n",
        "       [-2.63684066,  2.50647573],\n",
        "       [ 0.40407825, -5.41951819]]), conv=True, ni=4, g=array([[ 0.0656956 , -0.13702738,  0.01603356],\n",
        "       [ 0.05482182,  0.19583083, -0.02768425]]), a=array([[ 1.,  0.],\n",
        "       [ 0.,  1.]]), sr=array([[ 0.02566317, -0.0276714 ],\n",
        "       [-0.0276714 ,  0.04901932]]), cost=0.33701632791024427)\n",
        "result(x=array([ 1.93199561,  2.74437886]), j=array([[ 9.62421185,  6.55067953],\n",
        "       [-2.63680284,  2.50647839],\n",
        "       [ 0.40401601, -5.41951912]]), conv=True, ni=4, g=array([[ 0.06569182, -0.13701832,  0.01603327],\n",
        "       [ 0.05481728,  0.19583851, -0.02768596]]), a=array([[ 1.,  0.],\n",
        "       [ 0.,  1.]]), sr=array([[ 0.02566009, -0.02767138],\n",
        "       [-0.02767138,  0.04902278]]), cost=0.33701632798538217)\n",
        "[ 1.93199447  2.74438046]"
       ]
      },
      {
       "output_type": "stream",
       "stream": "stdout",
       "text": [
        "\n"
       ]
      }
     ],
     "prompt_number": 8
    },
    {
     "cell_type": "markdown",
     "metadata": {},
     "source": [
      "Test inverse with optimal estimation. Needed quantities are:  measurment error covariance, apriori error covariance, apriori and first guess"
     ]
    },
    {
     "cell_type": "code",
     "collapsed": false,
     "input": [
      "#measurement error covariance\n",
      "se=np.array([[1,0.,0],[0,1.,0],[0,0,10.]])\n",
      "#apriori error covariance\n",
      "sa=np.array([[3,0.],[0,10.]])\n",
      "#apriori\n",
      "xa=np.array([2.,3.])\n",
      "#first guess\n",
      "fg=np.array([2.4,8.])\n",
      "# y is measurement with error at y[2]\n",
      "y=func(np.array([1.9,2.8]))+np.array([0.,0.,2.])\n",
      "\n",
      "#Inversion\n",
      "print inv_func(y,se=se,sa=sa,xa=xa,fg=fg,method=2,full=True)\n",
      "print inv_func(y,se=se,sa=sa,xa=xa,fg=fg,method=2,full=False)"
     ],
     "language": "python",
     "metadata": {},
     "outputs": [
      {
       "output_type": "stream",
       "stream": "stdout",
       "text": [
        "result(x=array([ 1.93187311,  2.74499893]), j=array([[ 9.62342671,  6.55009218],\n",
        "       [-2.6367482 ,  2.50634571],\n",
        "       [ 0.40399238, -5.41945775]]), conv=True, ni=3, g=array([[ 0.065291  , -0.13532883,  0.01582276],\n",
        "       [ 0.05515425,  0.19364716, -0.02740756]]), a=array([[ 0.9915435 ,  0.0027305 ],\n",
        "       [ 0.00910168,  0.99514629]]), sr=array([[ 0.0253695 , -0.02730503],\n",
        "       [-0.02730503,  0.04853706]]), cost=0.34507906128793625)\n",
        "[ 1.93187311  2.74499893]\n"
       ]
      }
     ],
     "prompt_number": 9
    },
    {
     "cell_type": "code",
     "collapsed": false,
     "input": [
      "#using fparams\n",
      "param=1.3\n",
      "# y is measurement with error at y[2]\n",
      "y=func([1.9,2.8],param)+np.array([0.,0.,2.])\n",
      "print inv_func(y,se=se,sa=sa,xa=xa,fg=fg,method=2,fparams=param,jparams=param,full=True)\n",
      "print inv_func(y,se=se,sa=sa,xa=xa,fg=fg,method=2,fparams=param,jparams=param,full=False,jaco=None)"
     ],
     "language": "python",
     "metadata": {},
     "outputs": [
      {
       "output_type": "stream",
       "stream": "stdout",
       "text": [
        "result(x=array([ 1.91553224,  2.76318983]), j=array([[  1.31337500e+01,   6.53330417e+00],\n",
        "       [ -2.63281591e+00,   4.02780814e+00],\n",
        "       [ -2.37222043e-03,  -5.69487672e+00]]), conv=True, ni=3, g=array([[ 0.05894821, -0.08434241,  0.00773551],\n",
        "       [ 0.03373763,  0.16659581, -0.01849345]]), a=array([[ 0.99625082,  0.0013588 ],\n",
        "       [ 0.00452932,  0.99675205]]), sr=array([[ 0.01124755, -0.01358796],\n",
        "       [-0.01358796,  0.0324795 ]]), cost=0.36570303482545896)\n",
        "[ 1.91553229  2.76318937]\n"
       ]
      }
     ],
     "prompt_number": 10
    },
    {
     "cell_type": "code",
     "collapsed": false,
     "input": [
      "#Diagnostics took time!\n",
      "%timeit dum=inv_func(y,se=se,sa=sa,xa=xa,fg=fg,method=2,fparams=param,jparams=param,full=True)\n",
      "%timeit dum=inv_func(y,se=se,sa=sa,xa=xa,fg=fg,method=2,fparams=param,jparams=param,full='fast')\n",
      "%timeit dum=inv_func(y,se=se,sa=sa,xa=xa,fg=fg,method=2,fparams=param,jparams=param,full=False)"
     ],
     "language": "python",
     "metadata": {},
     "outputs": [
      {
       "output_type": "stream",
       "stream": "stdout",
       "text": [
        "100 loops, best of 3: 3.79 ms per loop\n",
        "100 loops, best of 3: 3 ms per loop"
       ]
      },
      {
       "output_type": "stream",
       "stream": "stdout",
       "text": [
        "\n",
        "100 loops, best of 3: 2.92 ms per loop"
       ]
      },
      {
       "output_type": "stream",
       "stream": "stdout",
       "text": [
        "\n"
       ]
      }
     ],
     "prompt_number": 11
    },
    {
     "cell_type": "code",
     "collapsed": false,
     "input": [
      "%timeit numpy.asarray([1,2.,4.])\n",
      "%timeit numpy.array([1,2.,4.])"
     ],
     "language": "python",
     "metadata": {},
     "outputs": [
      {
       "output_type": "stream",
       "stream": "stdout",
       "text": [
        "10000 loops, best of 3: 19.9 \u00b5s per loop\n",
        "100000 loops, best of 3: 16.6 \u00b5s per loop"
       ]
      },
      {
       "output_type": "stream",
       "stream": "stdout",
       "text": [
        "\n"
       ]
      }
     ],
     "prompt_number": 12
    },
    {
     "cell_type": "code",
     "collapsed": false,
     "input": [],
     "language": "python",
     "metadata": {},
     "outputs": [],
     "prompt_number": 12
    }
   ],
   "metadata": {}
  }
 ]
}