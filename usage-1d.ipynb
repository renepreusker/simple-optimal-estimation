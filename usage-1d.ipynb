{
 "metadata": {
  "name": ""
 },
 "nbformat": 3,
 "nbformat_minor": 0,
 "worksheets": [
  {
   "cells": [
    {
     "cell_type": "code",
     "collapsed": false,
     "input": [
      "import numpy as np\n",
      "import optimal_estimation as oe\n",
      "%load_ext autoreload\n",
      "%autoreload 2"
     ],
     "language": "python",
     "metadata": {},
     "outputs": [],
     "prompt_number": 1
    },
    {
     "cell_type": "markdown",
     "metadata": {},
     "source": [
      "Define 'forward' function. This can be *any* kind of python function (e.g. LUTs), as long as it accepts x, params and returns y."
     ]
    },
    {
     "cell_type": "code",
     "collapsed": false,
     "input": [
      "def func(x,*params):\n",
      "    '''\n",
      "    simple example of a function R^1 --> R^1\n",
      "    (one state variables and one measurement)\n",
      "\n",
      "    In general every function shoud accept: \n",
      "    Input:\n",
      "           x:  n-element np-array \n",
      "      params:  additional parameter,that are needed (e.g. geometry ..)\n",
      "               could be anything tupel,dict,list,func ....\n",
      "    Output:\n",
      "           y:  m-element  np-array\n",
      "\n",
      "    '''\n",
      "    # this is just a quick and dirty check\n",
      "    # if params have been used\n",
      "    try:\n",
      "        dum=1.**params[0]\n",
      "        exp=params[0]\n",
      "    except:\n",
      "        exp=1.\n",
      "    # simple non-linear useless function    \n",
      "    return np.asarray([ 13 + 6*np.log(x[0])**exp])"
     ],
     "language": "python",
     "metadata": {},
     "outputs": [],
     "prompt_number": 2
    },
    {
     "cell_type": "markdown",
     "metadata": {},
     "source": [
      "Test forward"
     ]
    },
    {
     "cell_type": "code",
     "collapsed": false,
     "input": [
      "x=np.array([2.8])\n",
      "print func(x)\n",
      "print func(x,1.8)"
     ],
     "language": "python",
     "metadata": {},
     "outputs": [
      {
       "output_type": "stream",
       "stream": "stdout",
       "text": [
        "[ 19.1777165]\n",
        "[ 19.32367227]\n"
       ]
      }
     ],
     "prompt_number": 3
    },
    {
     "cell_type": "markdown",
     "metadata": {},
     "source": [
      "Generate inverse function"
     ]
    },
    {
     "cell_type": "code",
     "collapsed": false,
     "input": [
      "# lower limit for x\n",
      "a=np.array([.1])\n",
      "# upper limit for x\n",
      "b=np.array([53.])\n",
      "\n",
      "#this creates the inverse function\n",
      "inv_func=oe.my_inverter(func,a,b)"
     ],
     "language": "python",
     "metadata": {},
     "outputs": [],
     "prompt_number": 4
    },
    {
     "cell_type": "markdown",
     "metadata": {},
     "source": [
      "Test inverse function  with *pure* Newton"
     ]
    },
    {
     "cell_type": "code",
     "collapsed": false,
     "input": [
      "#measurement\n",
      "y=np.array([19.1777165 ])\n",
      "\n",
      "#Inversion retrieves x (=state) \n",
      "print inv_func(y,method=0,full=True)\n",
      "print inv_func(func([3.4]),method=0)"
     ],
     "language": "python",
     "metadata": {},
     "outputs": [
      {
       "output_type": "stream",
       "stream": "stdout",
       "text": [
        "result(x=array([ 2.8]), j=array([[ 2.14311216]]), conv=True, ni=7, g=array([[ 0.46661114]]), a=array([[ 1.]]), sr=None, cost=5.6986081534923031e-19)\n",
        "[ 3.4]\n"
       ]
      }
     ],
     "prompt_number": 5
    },
    {
     "cell_type": "markdown",
     "metadata": {},
     "source": [
      "Test inverse with Newton and measurement error covariance"
     ]
    },
    {
     "cell_type": "code",
     "collapsed": false,
     "input": [
      "#measurement error covariance\n",
      "se=np.array([[.1]])\n",
      "print se.shape\n",
      "\n",
      "y=func(np.array([2.8]))\n",
      "\n",
      "#Inversion\n",
      "print inv_func(y,se=se,method=1,full=True)\n",
      "print inv_func(y,se=se,method=1)"
     ],
     "language": "python",
     "metadata": {},
     "outputs": [
      {
       "output_type": "stream",
       "stream": "stdout",
       "text": [
        "(1, 1)\n",
        "result(x=array([ 2.79999705]), j=array([[ 2.14311441]]), conv=True, ni=6, g=array([[ 0.46661065]]), a=array([[ 1.]]), sr=array([[ 0.02177255]]), cost=3.9893654729959445e-10)\n",
        "[ 2.79999705]"
       ]
      },
      {
       "output_type": "stream",
       "stream": "stdout",
       "text": [
        "\n"
       ]
      }
     ],
     "prompt_number": 6
    },
    {
     "cell_type": "markdown",
     "metadata": {},
     "source": [
      "Test inverse with optimal estimation. Needed quantities are:  measurment error covariance, apriori error covariance, apriori and first guess"
     ]
    },
    {
     "cell_type": "code",
     "collapsed": false,
     "input": [
      "#measurement error covariance\n",
      "se=np.array([[1.]])\n",
      "#apriori error covariance\n",
      "sa=np.array([[3.]])\n",
      "print se.shape,sa.shape\n",
      "#apriori\n",
      "xa=np.array([2.])\n",
      "#first guess\n",
      "fg=np.array([2.4])\n",
      "#Inversion\n",
      "print inv_func(y,se=se,sa=sa,xa=xa,fg=fg,method=2,full=True)\n",
      "#using fparams\n",
      "print inv_func(y,se=se,sa=sa,xa=xa,fg=fg,method=2,fparams=1.8)\n"
     ],
     "language": "python",
     "metadata": {},
     "outputs": [
      {
       "output_type": "stream",
       "stream": "stdout",
       "text": [
        "(1, 1) (1, 1)\n",
        "result(x=array([ 2.74752478]), j=array([[ 2.18405367]]), conv=True, ni=2, g=array([[ 0.42795852]]), a=array([[ 0.93468437]]), sr=array([[ 0.19594689]]), cost=0.1991498479162683)"
       ]
      },
      {
       "output_type": "stream",
       "stream": "stdout",
       "text": [
        "\n",
        "[ 2.74723242]\n"
       ]
      }
     ],
     "prompt_number": 7
    }
   ],
   "metadata": {}
  }
 ]
}